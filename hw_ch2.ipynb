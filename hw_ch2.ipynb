{
    "metadata": {
        "kernelspec": {
            "name": "SQL",
            "display_name": "SQL",
            "language": "sql"
        },
        "language_info": {
            "name": "sql",
            "version": ""
        }
    },
    "nbformat_minor": 2,
    "nbformat": 4,
    "cells": [
        {
            "cell_type": "markdown",
            "source": [
                "**Here we see the conversion of the TSQLV4 db queries to Pascal Case naming convention (kind of like camel cased) in NorthWinds...**"
            ],
            "metadata": {
                "language": "sql",
                "azdata_cell_guid": "b1d97358-eae3-4288-9fe9-95696f3c5d3f"
            },
            "attachments": {}
        },
        {
            "cell_type": "code",
            "source": [
                "use TSQLV4\n",
                "go\n",
                "select * from hr.Employees\n",
                "\n",
                "use Northwinds2022TSQLV7\n",
                "go\n",
                "select * from HumanResources.Employee"
            ],
            "metadata": {
                "language": "sql",
                "azdata_cell_guid": "d1d5b03e-0a08-4401-8abd-e52c875447a7",
                "tags": []
            },
            "outputs": [
                {
                    "output_type": "error",
                    "evalue": "Execution failed due to an unexpected error: \n\tCannot connect to the database due to invalid OwnerUri (Parameter 'OwnerUri')",
                    "ename": "",
                    "traceback": []
                },
                {
                    "output_type": "display_data",
                    "data": {
                        "text/html": "Total execution time: 00:00:00"
                    },
                    "metadata": {}
                }
            ],
            "execution_count": 100
        },
        {
            "cell_type": "markdown",
            "source": [
                "# `QUERY 1) Return orders placed in June 2015`\n",
                "\n",
                "### `TABLES INVOLVED) tsqlv4 db, Sales.Order`\n",
                "\n",
                "```\n",
                "orderid     orderdate  custid      empid\n",
                "----------- ---------- ----------- -----------\n",
                "10555       2015-06-02 71          6\n",
                "10556       2015-06-03 73          2\n",
                "10557       2015-06-03 44          9\n",
                "10558       2015-06-04 4           1\n",
                "10559       2015-06-05 7           6\n",
                "10560       2015-06-06 25          8\n",
                "10561       2015-06-06 24          2\n",
                "10562       2015-06-09 66          1\n",
                "10563       2015-06-10 67          2\n",
                "10564       2015-06-10 65          4\n",
                "\n",
                "```\n",
                "```\n",
                "(30 row(s) affected)\n",
                "\n",
                "```"
            ],
            "metadata": {
                "language": "sql",
                "azdata_cell_guid": "985968ec-3387-4c49-bc0e-4955a3bc5646"
            },
            "attachments": {}
        },
        {
            "cell_type": "code",
            "source": [
                "use Northwinds2022TSQLV7\n",
                "go \n",
                "\n",
                "select OrderId as orderid, \n",
                "    OrderDate as orderdate,\n",
                "    CustomerId as custid,\n",
                "    EmployeeId as empid\n",
                "from Sales.[Order]\n",
                "where YEAR(OrderDate) = 2015 and MONTH(OrderDate) = 6\n",
                "order by orderid, orderdate, custid, empid\n",
                " \n",
                ""
            ],
            "metadata": {
                "language": "sql",
                "azdata_cell_guid": "51ad3be2-6e9b-40ea-b3d2-dd5063c73fe1",
                "tags": []
            },
            "outputs": [
                {
                    "output_type": "error",
                    "evalue": "Execution failed due to an unexpected error: \n\tCannot connect to the database due to invalid OwnerUri (Parameter 'OwnerUri')",
                    "ename": "",
                    "traceback": []
                },
                {
                    "output_type": "display_data",
                    "data": {
                        "text/html": "Total execution time: 00:00:00"
                    },
                    "metadata": {}
                }
            ],
            "execution_count": 101
        },
        {
            "cell_type": "markdown",
            "source": [
                "# `QUERY 2) Return orders placed on the last day of the month`\n",
                "\n",
                "### `TABLES INVOLVED) tsqlv4 db, Sales.Order`\n",
                "\n",
                "```\n",
                "orderid     orderdate  custid      empid\n",
                "----------- ---------- ----------- -----------\n",
                "10269       2014-07-31 89          5\n",
                "10317       2014-09-30 48          6\n",
                "10343       2014-10-31 44          4\n",
                "10399       2014-12-31 83          8\n",
                "10432       2015-01-31 75          3\n",
                "10460       2015-02-28 24          8\n",
                "10461       2015-02-28 46          1\n",
                "10490       2015-03-31 35          7\n",
                "10491       2015-03-31 28          8\n",
                "10522       2015-04-30 44          4\n",
                "\n",
                "```\n",
                "```\n",
                "(26 row(s) affected)\n",
                "\n",
                "```"
            ],
            "metadata": {
                "language": "sql",
                "azdata_cell_guid": "972ebe08-1666-4735-945d-6fff2afb33de"
            },
            "attachments": {}
        },
        {
            "cell_type": "code",
            "source": [
                "use Northwinds2022TSQLV7\n",
                "go\n",
                "\n",
                "select OrderId as orderid,\n",
                "    OrderDate as orderdate, \n",
                "    CustomerId as custid,\n",
                "    EmployeeId as empid \n",
                "from Sales.[Order]\n",
                "where EOMONTH(OrderDate) = OrderDate\n",
                "order by orderid, orderdate, custid, empid"
            ],
            "metadata": {
                "language": "sql",
                "azdata_cell_guid": "8434921b-3521-42e5-96e8-2a76d49cd375"
            },
            "outputs": [
                {
                    "output_type": "display_data",
                    "data": {
                        "text/html": "Commands completed successfully."
                    },
                    "metadata": {}
                },
                {
                    "output_type": "display_data",
                    "data": {
                        "text/html": "(26 rows affected)"
                    },
                    "metadata": {}
                },
                {
                    "output_type": "display_data",
                    "data": {
                        "text/html": "Total execution time: 00:00:01.376"
                    },
                    "metadata": {}
                },
                {
                    "output_type": "execute_result",
                    "metadata": {},
                    "execution_count": 3,
                    "data": {
                        "application/vnd.dataresource+json": {
                            "schema": {
                                "fields": [
                                    {
                                        "name": "orderid"
                                    },
                                    {
                                        "name": "orderdate"
                                    },
                                    {
                                        "name": "custid"
                                    },
                                    {
                                        "name": "empid"
                                    }
                                ]
                            },
                            "data": [
                                {
                                    "0": "10269",
                                    "1": "2014-07-31",
                                    "2": "89",
                                    "3": "5"
                                },
                                {
                                    "0": "10317",
                                    "1": "2014-09-30",
                                    "2": "48",
                                    "3": "6"
                                },
                                {
                                    "0": "10343",
                                    "1": "2014-10-31",
                                    "2": "44",
                                    "3": "4"
                                },
                                {
                                    "0": "10399",
                                    "1": "2014-12-31",
                                    "2": "83",
                                    "3": "8"
                                },
                                {
                                    "0": "10432",
                                    "1": "2015-01-31",
                                    "2": "75",
                                    "3": "3"
                                },
                                {
                                    "0": "10460",
                                    "1": "2015-02-28",
                                    "2": "24",
                                    "3": "8"
                                },
                                {
                                    "0": "10461",
                                    "1": "2015-02-28",
                                    "2": "46",
                                    "3": "1"
                                },
                                {
                                    "0": "10490",
                                    "1": "2015-03-31",
                                    "2": "35",
                                    "3": "7"
                                },
                                {
                                    "0": "10491",
                                    "1": "2015-03-31",
                                    "2": "28",
                                    "3": "8"
                                },
                                {
                                    "0": "10522",
                                    "1": "2015-04-30",
                                    "2": "44",
                                    "3": "4"
                                },
                                {
                                    "0": "10583",
                                    "1": "2015-06-30",
                                    "2": "87",
                                    "3": "2"
                                },
                                {
                                    "0": "10584",
                                    "1": "2015-06-30",
                                    "2": "7",
                                    "3": "4"
                                },
                                {
                                    "0": "10616",
                                    "1": "2015-07-31",
                                    "2": "32",
                                    "3": "1"
                                },
                                {
                                    "0": "10617",
                                    "1": "2015-07-31",
                                    "2": "32",
                                    "3": "4"
                                },
                                {
                                    "0": "10686",
                                    "1": "2015-09-30",
                                    "2": "59",
                                    "3": "2"
                                },
                                {
                                    "0": "10687",
                                    "1": "2015-09-30",
                                    "2": "37",
                                    "3": "9"
                                },
                                {
                                    "0": "10725",
                                    "1": "2015-10-31",
                                    "2": "21",
                                    "3": "4"
                                },
                                {
                                    "0": "10806",
                                    "1": "2015-12-31",
                                    "2": "84",
                                    "3": "3"
                                },
                                {
                                    "0": "10807",
                                    "1": "2015-12-31",
                                    "2": "27",
                                    "3": "4"
                                },
                                {
                                    "0": "10987",
                                    "1": "2016-03-31",
                                    "2": "19",
                                    "3": "8"
                                },
                                {
                                    "0": "10988",
                                    "1": "2016-03-31",
                                    "2": "65",
                                    "3": "3"
                                },
                                {
                                    "0": "10989",
                                    "1": "2016-03-31",
                                    "2": "61",
                                    "3": "2"
                                },
                                {
                                    "0": "11060",
                                    "1": "2016-04-30",
                                    "2": "27",
                                    "3": "2"
                                },
                                {
                                    "0": "11061",
                                    "1": "2016-04-30",
                                    "2": "32",
                                    "3": "4"
                                },
                                {
                                    "0": "11062",
                                    "1": "2016-04-30",
                                    "2": "66",
                                    "3": "4"
                                },
                                {
                                    "0": "11063",
                                    "1": "2016-04-30",
                                    "2": "37",
                                    "3": "3"
                                }
                            ]
                        },
                        "text/html": [
                            "<table>",
                            "<tr><th>orderid</th><th>orderdate</th><th>custid</th><th>empid</th></tr>",
                            "<tr><td>10269</td><td>2014-07-31</td><td>89</td><td>5</td></tr>",
                            "<tr><td>10317</td><td>2014-09-30</td><td>48</td><td>6</td></tr>",
                            "<tr><td>10343</td><td>2014-10-31</td><td>44</td><td>4</td></tr>",
                            "<tr><td>10399</td><td>2014-12-31</td><td>83</td><td>8</td></tr>",
                            "<tr><td>10432</td><td>2015-01-31</td><td>75</td><td>3</td></tr>",
                            "<tr><td>10460</td><td>2015-02-28</td><td>24</td><td>8</td></tr>",
                            "<tr><td>10461</td><td>2015-02-28</td><td>46</td><td>1</td></tr>",
                            "<tr><td>10490</td><td>2015-03-31</td><td>35</td><td>7</td></tr>",
                            "<tr><td>10491</td><td>2015-03-31</td><td>28</td><td>8</td></tr>",
                            "<tr><td>10522</td><td>2015-04-30</td><td>44</td><td>4</td></tr>",
                            "<tr><td>10583</td><td>2015-06-30</td><td>87</td><td>2</td></tr>",
                            "<tr><td>10584</td><td>2015-06-30</td><td>7</td><td>4</td></tr>",
                            "<tr><td>10616</td><td>2015-07-31</td><td>32</td><td>1</td></tr>",
                            "<tr><td>10617</td><td>2015-07-31</td><td>32</td><td>4</td></tr>",
                            "<tr><td>10686</td><td>2015-09-30</td><td>59</td><td>2</td></tr>",
                            "<tr><td>10687</td><td>2015-09-30</td><td>37</td><td>9</td></tr>",
                            "<tr><td>10725</td><td>2015-10-31</td><td>21</td><td>4</td></tr>",
                            "<tr><td>10806</td><td>2015-12-31</td><td>84</td><td>3</td></tr>",
                            "<tr><td>10807</td><td>2015-12-31</td><td>27</td><td>4</td></tr>",
                            "<tr><td>10987</td><td>2016-03-31</td><td>19</td><td>8</td></tr>",
                            "<tr><td>10988</td><td>2016-03-31</td><td>65</td><td>3</td></tr>",
                            "<tr><td>10989</td><td>2016-03-31</td><td>61</td><td>2</td></tr>",
                            "<tr><td>11060</td><td>2016-04-30</td><td>27</td><td>2</td></tr>",
                            "<tr><td>11061</td><td>2016-04-30</td><td>32</td><td>4</td></tr>",
                            "<tr><td>11062</td><td>2016-04-30</td><td>66</td><td>4</td></tr>",
                            "<tr><td>11063</td><td>2016-04-30</td><td>37</td><td>3</td></tr>",
                            "</table>"
                        ]
                    }
                }
            ],
            "execution_count": 3
        },
        {
            "cell_type": "markdown",
            "source": [
                "# `QUERY 3)` Return employees with last name containing the letter 'e' twice or more\n",
                "\n",
                "### `TABLES INVOLVED) HR.Employees`\\`\n",
                "\n",
                "```\n",
                "empid       firstname  lastname\n",
                "----------- ---------- --------------------\n",
                "4           Yael       Peled\n",
                "5           Sven       Mortensen\n",
                "\n",
                "```\n",
                "```\n",
                "(2 row(s) affected)\n",
                "```\n",
                "\n",
                "\\`"
            ],
            "metadata": {
                "language": "sql",
                "azdata_cell_guid": "477d29c8-f5b9-4dd2-bd9e-fc5eaeeec603"
            },
            "attachments": {}
        },
        {
            "cell_type": "code",
            "source": [
                "use Northwinds2022TSQLV7\n",
                "go \n",
                "\n",
                "select EmployeeId as empid,\n",
                "    EmployeeFirstName as firstname,\n",
                "    EmployeeLastName as lastname\n",
                "from HumanResources.[Employee]\n",
                "where EmployeeLastName LIKE N'%e%e%'\n",
                "order by empid, firstname, lastname"
            ],
            "metadata": {
                "language": "sql",
                "azdata_cell_guid": "7a923076-1625-4f77-9641-64f8c7e2b025",
                "tags": [
                    "hide_input"
                ]
            },
            "outputs": [
                {
                    "output_type": "display_data",
                    "data": {
                        "text/html": "Commands completed successfully."
                    },
                    "metadata": {}
                },
                {
                    "output_type": "display_data",
                    "data": {
                        "text/html": "(2 rows affected)"
                    },
                    "metadata": {}
                },
                {
                    "output_type": "display_data",
                    "data": {
                        "text/html": "Total execution time: 00:00:00.023"
                    },
                    "metadata": {}
                },
                {
                    "output_type": "execute_result",
                    "metadata": {},
                    "execution_count": 4,
                    "data": {
                        "application/vnd.dataresource+json": {
                            "schema": {
                                "fields": [
                                    {
                                        "name": "empid"
                                    },
                                    {
                                        "name": "firstname"
                                    },
                                    {
                                        "name": "lastname"
                                    }
                                ]
                            },
                            "data": [
                                {
                                    "0": "4",
                                    "1": "Yael",
                                    "2": "Peled"
                                },
                                {
                                    "0": "5",
                                    "1": "Sven",
                                    "2": "Mortensen"
                                }
                            ]
                        },
                        "text/html": [
                            "<table>",
                            "<tr><th>empid</th><th>firstname</th><th>lastname</th></tr>",
                            "<tr><td>4</td><td>Yael</td><td>Peled</td></tr>",
                            "<tr><td>5</td><td>Sven</td><td>Mortensen</td></tr>",
                            "</table>"
                        ]
                    }
                }
            ],
            "execution_count": 4
        },
        {
            "cell_type": "markdown",
            "source": [
                "# `QUERY 4)` Return orders with total value(qty\\*unitprice) greater than 10000, sorted by total value\n",
                "\n",
                "### `TABLES INVOLVED) Sales.OrderDetails`\n",
                "\n",
                "`\n",
                "```\n",
                "orderid     totalvalue\n",
                "----------- ---------------------\n",
                "10865       17250.00\n",
                "11030       16321.90\n",
                "10981       15810.00\n",
                "10372       12281.20\n",
                "10424       11493.20\n",
                "10817       11490.70\n",
                "10889       11380.00\n",
                "10417       11283.20\n",
                "10897       10835.24\n",
                "10353       10741.60\n",
                "10515       10588.50\n",
                "10479       10495.60\n",
                "10540       10191.70\n",
                "10691       10164.80\n",
                "```\n",
                "```\n",
                "(14 row(s) affected)\n",
                "```\n",
                "`"
            ],
            "metadata": {
                "language": "sql",
                "azdata_cell_guid": "fa036284-9f4a-4e18-b940-ef93a19c1858"
            },
            "attachments": {}
        },
        {
            "cell_type": "code",
            "source": [
                "use Northwinds2022TSQLV7\n",
                "go \n",
                "\n",
                "select OrderId as orderid,\n",
                "    --sum all total order prices for the order id\n",
                "    SUM(Quantity * UnitPrice) as totalvalue \n",
                "from Sales.[OrderDetail]\n",
                "--cant have this here, should be a having clause, no aggregate in WHERE unless its a subquery\n",
                "--where SUM(Quantity * UnitPrice) > 10000.00\n",
                "\n",
                "--orderid cant be in the select statement alone now that we have an aggregate,\n",
                "--  because we'd be returning the same value multiple times for the same orderid\n",
                "--hence the reason we should group our table by distinct orderids\n",
                "group by orderid\n",
                "\n",
                "--but we only want totalvalues > 10000! and recall why this instead of having\n",
                "having SUM(Quantity * UnitPrice) > 10000\n",
                "\n",
                "--we dont want it in that order so...\n",
                "--and we can do this because our alias is now understood by the parser\n",
                "order by totalvalue desc\n",
                "\n",
                "\n",
                "\n",
                "\n",
                "\n",
                "\n",
                ""
            ],
            "metadata": {
                "language": "sql",
                "azdata_cell_guid": "3c347b12-2769-43a4-9629-7e97494ac657"
            },
            "outputs": [
                {
                    "output_type": "display_data",
                    "data": {
                        "text/html": "Commands completed successfully."
                    },
                    "metadata": {}
                },
                {
                    "output_type": "display_data",
                    "data": {
                        "text/html": "(14 rows affected)"
                    },
                    "metadata": {}
                },
                {
                    "output_type": "display_data",
                    "data": {
                        "text/html": "Total execution time: 00:00:00.030"
                    },
                    "metadata": {}
                },
                {
                    "output_type": "execute_result",
                    "metadata": {},
                    "execution_count": 33,
                    "data": {
                        "application/vnd.dataresource+json": {
                            "schema": {
                                "fields": [
                                    {
                                        "name": "orderid"
                                    },
                                    {
                                        "name": "totalvalue"
                                    }
                                ]
                            },
                            "data": [
                                {
                                    "0": "10865",
                                    "1": "17250.00"
                                },
                                {
                                    "0": "11030",
                                    "1": "16321.90"
                                },
                                {
                                    "0": "10981",
                                    "1": "15810.00"
                                },
                                {
                                    "0": "10372",
                                    "1": "12281.20"
                                },
                                {
                                    "0": "10424",
                                    "1": "11493.20"
                                },
                                {
                                    "0": "10817",
                                    "1": "11490.70"
                                },
                                {
                                    "0": "10889",
                                    "1": "11380.00"
                                },
                                {
                                    "0": "10417",
                                    "1": "11283.20"
                                },
                                {
                                    "0": "10897",
                                    "1": "10835.24"
                                },
                                {
                                    "0": "10353",
                                    "1": "10741.60"
                                },
                                {
                                    "0": "10515",
                                    "1": "10588.50"
                                },
                                {
                                    "0": "10479",
                                    "1": "10495.60"
                                },
                                {
                                    "0": "10540",
                                    "1": "10191.70"
                                },
                                {
                                    "0": "10691",
                                    "1": "10164.80"
                                }
                            ]
                        },
                        "text/html": [
                            "<table>",
                            "<tr><th>orderid</th><th>totalvalue</th></tr>",
                            "<tr><td>10865</td><td>17250.00</td></tr>",
                            "<tr><td>11030</td><td>16321.90</td></tr>",
                            "<tr><td>10981</td><td>15810.00</td></tr>",
                            "<tr><td>10372</td><td>12281.20</td></tr>",
                            "<tr><td>10424</td><td>11493.20</td></tr>",
                            "<tr><td>10817</td><td>11490.70</td></tr>",
                            "<tr><td>10889</td><td>11380.00</td></tr>",
                            "<tr><td>10417</td><td>11283.20</td></tr>",
                            "<tr><td>10897</td><td>10835.24</td></tr>",
                            "<tr><td>10353</td><td>10741.60</td></tr>",
                            "<tr><td>10515</td><td>10588.50</td></tr>",
                            "<tr><td>10479</td><td>10495.60</td></tr>",
                            "<tr><td>10540</td><td>10191.70</td></tr>",
                            "<tr><td>10691</td><td>10164.80</td></tr>",
                            "</table>"
                        ]
                    }
                }
            ],
            "execution_count": 33
        },
        {
            "cell_type": "markdown",
            "source": [
                "# `QUERY 5)` Write a query against the HR.Employees table that returns employees with a last name that starts with a lower case letter. Remember that the collation of the sample database is case insensitive (Latin1\\_General\\_CI\\_AS). For simplicity, you can assume that only English letters are used in the employee last names.\n",
                "\n",
                "### `TABLES INVOLVED) Sales.OrderDetails`\n",
                "\n",
                "\\`\n",
                "\n",
                "```\n",
                "empid       lastname\n",
                "----------- --------------------\n",
                "\n",
                "```\n",
                "```\n",
                "(0 row(s) affected)\n",
                "\n",
                "```\n",
                "\n",
                "\\`"
            ],
            "metadata": {
                "language": "sql",
                "azdata_cell_guid": "64ad98b3-6be9-40e4-a313-4d186b9b39f3"
            },
            "attachments": {}
        },
        {
            "cell_type": "code",
            "source": [
                "use Northwinds2022TSQLV7\n",
                "go\n",
                "\n",
                "select EmployeeId as empid,\n",
                "    EmployeeLastName as lastname\n",
                "from HumanResources.Employee\n",
                "\n",
                "--collate is our set of character and character encoding rules\n",
                "--  we can change how data is matched using it in comparison statement\n",
                "--  here we change our rules from CI to CS (case sensitive)\n",
                "where LEFT(EmployeeLastName, 1) COLLATE Latin1_General_CS_AS LIKE N'[abcdefghijklmnopqrstuvwxyz]%'"
            ],
            "metadata": {
                "language": "sql",
                "azdata_cell_guid": "5f20a398-cba1-464b-8c18-07a2ea5158fa",
                "tags": []
            },
            "outputs": [
                {
                    "output_type": "display_data",
                    "data": {
                        "text/html": "Commands completed successfully."
                    },
                    "metadata": {}
                },
                {
                    "output_type": "display_data",
                    "data": {
                        "text/html": "(0 rows affected)"
                    },
                    "metadata": {}
                },
                {
                    "output_type": "display_data",
                    "data": {
                        "text/html": "Total execution time: 00:00:00.032"
                    },
                    "metadata": {}
                },
                {
                    "output_type": "execute_result",
                    "metadata": {},
                    "execution_count": 80,
                    "data": {
                        "application/vnd.dataresource+json": {
                            "schema": {
                                "fields": [
                                    {
                                        "name": "empid"
                                    },
                                    {
                                        "name": "lastname"
                                    }
                                ]
                            },
                            "data": []
                        },
                        "text/html": [
                            "<table>",
                            "<tr><th>empid</th><th>lastname</th></tr>",
                            "</table>"
                        ]
                    }
                }
            ],
            "execution_count": 80
        },
        {
            "cell_type": "markdown",
            "source": [
                "# `QUERY 6)` Explain the difference between the following 2 queries"
            ],
            "metadata": {
                "language": "sql",
                "azdata_cell_guid": "62fd27eb-9168-4729-94b8-9453ecdc4b14"
            },
            "attachments": {}
        },
        {
            "cell_type": "code",
            "source": [
                "use TSQLV4\n",
                "go \n",
                "\n",
                "--Query 1\n",
                "SELECT empid, COUNT(*) AS numorders\n",
                "FROM Sales.Orders\n",
                "WHERE orderdate < '20160501'\n",
                "GROUP BY empid;\n",
                "\n",
                "--test\n",
                "-- SELECT empid, orderdate\n",
                "-- FROM Sales.Orders\n",
                "-- WHERE empid = 1\n",
                "-- order by orderdate\n",
                "\n",
                "--this query returns rows of individual empids (not found in more than one row as provided by GROUP BY)\n",
                "    --and num of orders BEFORE 20160501 simply\n",
                "\n",
                "-- Query 2\n",
                "SELECT empid, COUNT(*) AS numorders\n",
                "FROM Sales.Orders\n",
                "GROUP BY empid\n",
                "HAVING MAX(orderdate) < '20160501';\n",
                "\n",
                "--test\n",
                "-- SELECT empid, COUNT(*) AS numorders, MAX(orderdate) as maxorderdate\n",
                "-- FROM Sales.Orders\n",
                "-- GROUP BY empid\n",
                "\n",
                "-- ** recall we must group by for unique empid column cells, since we're using an aggregate\n",
                "-- ** recall aggregate functions like max cant be in WHERE, only HAVING\n",
                "\n",
                "--this query returns rows of individ empis, and num of orders, of ONLY the empids\n",
                "-- with a MOST RECENT orderdate BEFORE than 20160501\n",
                "\n",
                "-- ** most simply the main difference between these queries is that \n",
                "-- QUERY 1 returns ALL empids and their number of orders before May 1st 2016\n",
                "-- QUERY 2 returns only the empids with a MOST RECENT order before May 1st 2016\n",
                "\n",
                "-- their PascalCaseConvention equivalent would be..\n",
                "\n",
                "use Northwinds2022TSQLV7\n",
                "\n",
                "--query 1\n",
                "select EmployeeId as empid,\n",
                "    COUNT(*) as numorders\n",
                "from Sales.[Order]\n",
                "where OrderDate < '20160501'\n",
                "group by EmployeeId\n",
                "order by EmployeeId --not entirely necessary\n",
                "\n",
                "--query 2\n",
                "select EmployeeId as empid,\n",
                "    COUNT(*) as numorders\n",
                "from Sales.[Order]\n",
                "group by EmployeeId\n",
                "having MAX(OrderDate) < '20160501'"
            ],
            "metadata": {
                "language": "sql",
                "azdata_cell_guid": "306b3fb1-ce5b-46ae-9b46-0db529b6d351"
            },
            "outputs": [
                {
                    "output_type": "display_data",
                    "data": {
                        "text/html": "Commands completed successfully."
                    },
                    "metadata": {}
                },
                {
                    "output_type": "display_data",
                    "data": {
                        "text/html": "(9 rows affected)"
                    },
                    "metadata": {}
                },
                {
                    "output_type": "display_data",
                    "data": {
                        "text/html": "(4 rows affected)"
                    },
                    "metadata": {}
                },
                {
                    "output_type": "display_data",
                    "data": {
                        "text/html": "(9 rows affected)"
                    },
                    "metadata": {}
                },
                {
                    "output_type": "display_data",
                    "data": {
                        "text/html": "(4 rows affected)"
                    },
                    "metadata": {}
                },
                {
                    "output_type": "display_data",
                    "data": {
                        "text/html": "Total execution time: 00:00:00.098"
                    },
                    "metadata": {}
                },
                {
                    "output_type": "execute_result",
                    "metadata": {},
                    "execution_count": 102,
                    "data": {
                        "application/vnd.dataresource+json": {
                            "schema": {
                                "fields": [
                                    {
                                        "name": "empid"
                                    },
                                    {
                                        "name": "numorders"
                                    }
                                ]
                            },
                            "data": [
                                {
                                    "0": "1",
                                    "1": "118"
                                },
                                {
                                    "0": "2",
                                    "1": "94"
                                },
                                {
                                    "0": "3",
                                    "1": "127"
                                },
                                {
                                    "0": "4",
                                    "1": "154"
                                },
                                {
                                    "0": "5",
                                    "1": "42"
                                },
                                {
                                    "0": "6",
                                    "1": "67"
                                },
                                {
                                    "0": "7",
                                    "1": "70"
                                },
                                {
                                    "0": "8",
                                    "1": "101"
                                },
                                {
                                    "0": "9",
                                    "1": "43"
                                }
                            ]
                        },
                        "text/html": [
                            "<table>",
                            "<tr><th>empid</th><th>numorders</th></tr>",
                            "<tr><td>1</td><td>118</td></tr>",
                            "<tr><td>2</td><td>94</td></tr>",
                            "<tr><td>3</td><td>127</td></tr>",
                            "<tr><td>4</td><td>154</td></tr>",
                            "<tr><td>5</td><td>42</td></tr>",
                            "<tr><td>6</td><td>67</td></tr>",
                            "<tr><td>7</td><td>70</td></tr>",
                            "<tr><td>8</td><td>101</td></tr>",
                            "<tr><td>9</td><td>43</td></tr>",
                            "</table>"
                        ]
                    }
                },
                {
                    "output_type": "execute_result",
                    "metadata": {},
                    "execution_count": 102,
                    "data": {
                        "application/vnd.dataresource+json": {
                            "schema": {
                                "fields": [
                                    {
                                        "name": "empid"
                                    },
                                    {
                                        "name": "numorders"
                                    }
                                ]
                            },
                            "data": [
                                {
                                    "0": "9",
                                    "1": "43"
                                },
                                {
                                    "0": "3",
                                    "1": "127"
                                },
                                {
                                    "0": "6",
                                    "1": "67"
                                },
                                {
                                    "0": "5",
                                    "1": "42"
                                }
                            ]
                        },
                        "text/html": [
                            "<table>",
                            "<tr><th>empid</th><th>numorders</th></tr>",
                            "<tr><td>9</td><td>43</td></tr>",
                            "<tr><td>3</td><td>127</td></tr>",
                            "<tr><td>6</td><td>67</td></tr>",
                            "<tr><td>5</td><td>42</td></tr>",
                            "</table>"
                        ]
                    }
                },
                {
                    "output_type": "execute_result",
                    "metadata": {},
                    "execution_count": 102,
                    "data": {
                        "application/vnd.dataresource+json": {
                            "schema": {
                                "fields": [
                                    {
                                        "name": "empid"
                                    },
                                    {
                                        "name": "numorders"
                                    }
                                ]
                            },
                            "data": [
                                {
                                    "0": "1",
                                    "1": "118"
                                },
                                {
                                    "0": "2",
                                    "1": "94"
                                },
                                {
                                    "0": "3",
                                    "1": "127"
                                },
                                {
                                    "0": "4",
                                    "1": "154"
                                },
                                {
                                    "0": "5",
                                    "1": "42"
                                },
                                {
                                    "0": "6",
                                    "1": "67"
                                },
                                {
                                    "0": "7",
                                    "1": "70"
                                },
                                {
                                    "0": "8",
                                    "1": "101"
                                },
                                {
                                    "0": "9",
                                    "1": "43"
                                }
                            ]
                        },
                        "text/html": [
                            "<table>",
                            "<tr><th>empid</th><th>numorders</th></tr>",
                            "<tr><td>1</td><td>118</td></tr>",
                            "<tr><td>2</td><td>94</td></tr>",
                            "<tr><td>3</td><td>127</td></tr>",
                            "<tr><td>4</td><td>154</td></tr>",
                            "<tr><td>5</td><td>42</td></tr>",
                            "<tr><td>6</td><td>67</td></tr>",
                            "<tr><td>7</td><td>70</td></tr>",
                            "<tr><td>8</td><td>101</td></tr>",
                            "<tr><td>9</td><td>43</td></tr>",
                            "</table>"
                        ]
                    }
                },
                {
                    "output_type": "execute_result",
                    "metadata": {},
                    "execution_count": 102,
                    "data": {
                        "application/vnd.dataresource+json": {
                            "schema": {
                                "fields": [
                                    {
                                        "name": "empid"
                                    },
                                    {
                                        "name": "numorders"
                                    }
                                ]
                            },
                            "data": [
                                {
                                    "0": "9",
                                    "1": "43"
                                },
                                {
                                    "0": "3",
                                    "1": "127"
                                },
                                {
                                    "0": "6",
                                    "1": "67"
                                },
                                {
                                    "0": "5",
                                    "1": "42"
                                }
                            ]
                        },
                        "text/html": [
                            "<table>",
                            "<tr><th>empid</th><th>numorders</th></tr>",
                            "<tr><td>9</td><td>43</td></tr>",
                            "<tr><td>3</td><td>127</td></tr>",
                            "<tr><td>6</td><td>67</td></tr>",
                            "<tr><td>5</td><td>42</td></tr>",
                            "</table>"
                        ]
                    }
                }
            ],
            "execution_count": 102
        },
        {
            "cell_type": "markdown",
            "source": [
                "# `QUERY 7)` Return the three ship countries with the highest average freight for orders placed in 2015\n",
                "\n",
                "### `TABLES INVOLVED) Sales.Orders`\n",
                "\n",
                "```\n",
                "shipcountry     avgfreight\n",
                "--------------- ---------------------\n",
                "Austria         178.3642\n",
                "Switzerland     117.1775\n",
                "Sweden          105.16\n",
                "\n",
                "```\n",
                "```\n",
                "(3 row(s) affected)\n",
                "\n",
                "```"
            ],
            "metadata": {
                "language": "sql",
                "azdata_cell_guid": "6754e3f0-11d7-4b3e-bdbf-c420ee8c7c8e"
            },
            "attachments": {}
        },
        {
            "cell_type": "code",
            "source": [
                "use Northwinds2022TSQLV7\n",
                "go\n",
                "\n",
                "select top 3 ShipToCountry as shipcountry,\n",
                "    AVG(Freight) as avgfreight\n",
                "from Sales.[Order]\n",
                "where YEAR(OrderDate) = 2015 --initally thought this wouldn't work, but YEAR is not an aggregate, it simply works on a datestring, not rows of cells\n",
                "group by ShipToCountry\n",
                "order by avgfreight desc -- got an error with top 3, bc first we have to order it by highest avgfreight"
            ],
            "metadata": {
                "language": "sql",
                "azdata_cell_guid": "a8c0011a-4d5f-480c-9c71-7d707d2559f4",
                "tags": []
            },
            "outputs": [
                {
                    "output_type": "display_data",
                    "data": {
                        "text/html": "Commands completed successfully."
                    },
                    "metadata": {}
                },
                {
                    "output_type": "display_data",
                    "data": {
                        "text/html": "(3 rows affected)"
                    },
                    "metadata": {}
                },
                {
                    "output_type": "display_data",
                    "data": {
                        "text/html": "Total execution time: 00:00:00.053"
                    },
                    "metadata": {}
                },
                {
                    "output_type": "execute_result",
                    "metadata": {},
                    "execution_count": 121,
                    "data": {
                        "application/vnd.dataresource+json": {
                            "schema": {
                                "fields": [
                                    {
                                        "name": "shipcountry"
                                    },
                                    {
                                        "name": "avgfreight"
                                    }
                                ]
                            },
                            "data": [
                                {
                                    "0": "Austria",
                                    "1": "178.3642"
                                },
                                {
                                    "0": "Switzerland",
                                    "1": "117.1775"
                                },
                                {
                                    "0": "Sweden",
                                    "1": "105.16"
                                }
                            ]
                        },
                        "text/html": [
                            "<table>",
                            "<tr><th>shipcountry</th><th>avgfreight</th></tr>",
                            "<tr><td>Austria</td><td>178.3642</td></tr>",
                            "<tr><td>Switzerland</td><td>117.1775</td></tr>",
                            "<tr><td>Sweden</td><td>105.16</td></tr>",
                            "</table>"
                        ]
                    }
                }
            ],
            "execution_count": 121
        }
    ]
}