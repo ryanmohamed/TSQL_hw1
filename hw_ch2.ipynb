{
    "metadata": {
        "kernelspec": {
            "name": "SQL",
            "display_name": "SQL",
            "language": "sql"
        },
        "language_info": {
            "name": "sql",
            "version": ""
        }
    },
    "nbformat_minor": 2,
    "nbformat": 4,
    "cells": [
        {
            "cell_type": "markdown",
            "source": [
                "**Here we see the conversion of the TSQLV4 db queries to Pascal Case naming convention (kind of like camel cased) in NorthWinds...**"
            ],
            "metadata": {
                "language": "sql",
                "azdata_cell_guid": "b1d97358-eae3-4288-9fe9-95696f3c5d3f"
            },
            "attachments": {}
        },
        {
            "cell_type": "code",
            "source": [
                "use TSQLV4\n",
                "go\n",
                "select * from hr.Employees\n",
                "\n",
                "use Northwinds2022TSQLV7\n",
                "go\n",
                "select * from HumanResources.Employee"
            ],
            "metadata": {
                "language": "sql",
                "azdata_cell_guid": "d1d5b03e-0a08-4401-8abd-e52c875447a7",
                "tags": []
            },
            "outputs": [
                {
                    "output_type": "display_data",
                    "data": {
                        "text/html": "Commands completed successfully."
                    },
                    "metadata": {}
                },
                {
                    "output_type": "display_data",
                    "data": {
                        "text/html": "(9 rows affected)"
                    },
                    "metadata": {}
                },
                {
                    "output_type": "display_data",
                    "data": {
                        "text/html": "(9 rows affected)"
                    },
                    "metadata": {}
                },
                {
                    "output_type": "display_data",
                    "data": {
                        "text/html": "Total execution time: 00:00:00.073"
                    },
                    "metadata": {}
                },
                {
                    "output_type": "execute_result",
                    "metadata": {},
                    "execution_count": 2,
                    "data": {
                        "application/vnd.dataresource+json": {
                            "schema": {
                                "fields": [
                                    {
                                        "name": "empid"
                                    },
                                    {
                                        "name": "lastname"
                                    },
                                    {
                                        "name": "firstname"
                                    },
                                    {
                                        "name": "FullName"
                                    },
                                    {
                                        "name": "title"
                                    },
                                    {
                                        "name": "titleofcourtesy"
                                    },
                                    {
                                        "name": "birthdate"
                                    },
                                    {
                                        "name": "hiredate"
                                    },
                                    {
                                        "name": "address"
                                    },
                                    {
                                        "name": "city"
                                    },
                                    {
                                        "name": "region"
                                    },
                                    {
                                        "name": "postalcode"
                                    },
                                    {
                                        "name": "country"
                                    },
                                    {
                                        "name": "phone"
                                    },
                                    {
                                        "name": "mgrid"
                                    }
                                ]
                            },
                            "data": [
                                {
                                    "0": "1",
                                    "1": "Davis",
                                    "2": "Sara",
                                    "3": "Sara Davis",
                                    "4": "CEO",
                                    "5": "Ms.",
                                    "6": "1968-12-08",
                                    "7": "2013-05-01",
                                    "8": "7890 - 20th Ave. E., Apt. 2A",
                                    "9": "Seattle",
                                    "10": "WA",
                                    "11": "10003",
                                    "12": "USA",
                                    "13": "(206) 555-0101",
                                    "14": "NULL"
                                },
                                {
                                    "0": "2",
                                    "1": "Funk",
                                    "2": "Don",
                                    "3": "Don Funk",
                                    "4": "Vice President, Sales",
                                    "5": "Dr.",
                                    "6": "1972-02-19",
                                    "7": "2013-08-14",
                                    "8": "9012 W. Capital Way",
                                    "9": "Tacoma",
                                    "10": "WA",
                                    "11": "10001",
                                    "12": "USA",
                                    "13": "(206) 555-0100",
                                    "14": "1"
                                },
                                {
                                    "0": "3",
                                    "1": "Lew",
                                    "2": "Judy",
                                    "3": "Judy Lew",
                                    "4": "Sales Manager",
                                    "5": "Ms.",
                                    "6": "1983-08-30",
                                    "7": "2013-04-01",
                                    "8": "2345 Moss Bay Blvd.",
                                    "9": "Kirkland",
                                    "10": "WA",
                                    "11": "10007",
                                    "12": "USA",
                                    "13": "(206) 555-0103",
                                    "14": "2"
                                },
                                {
                                    "0": "4",
                                    "1": "Peled",
                                    "2": "Yael",
                                    "3": "Yael Peled",
                                    "4": "Sales Representative",
                                    "5": "Mrs.",
                                    "6": "1957-09-19",
                                    "7": "2014-05-03",
                                    "8": "5678 Old Redmond Rd.",
                                    "9": "Redmond",
                                    "10": "WA",
                                    "11": "10009",
                                    "12": "USA",
                                    "13": "(206) 555-0104",
                                    "14": "3"
                                },
                                {
                                    "0": "5",
                                    "1": "Mortensen",
                                    "2": "Sven",
                                    "3": "Sven Mortensen",
                                    "4": "Sales Manager",
                                    "5": "Mr.",
                                    "6": "1975-03-04",
                                    "7": "2014-10-17",
                                    "8": "8901 Garrett Hill",
                                    "9": "London",
                                    "10": "NULL",
                                    "11": "10004",
                                    "12": "UK",
                                    "13": "(71) 234-5678",
                                    "14": "2"
                                },
                                {
                                    "0": "6",
                                    "1": "Suurs",
                                    "2": "Paul",
                                    "3": "Paul Suurs",
                                    "4": "Sales Representative",
                                    "5": "Mr.",
                                    "6": "1983-07-02",
                                    "7": "2014-10-17",
                                    "8": "3456 Coventry House, Miner Rd.",
                                    "9": "London",
                                    "10": "NULL",
                                    "11": "10005",
                                    "12": "UK",
                                    "13": "(71) 345-6789",
                                    "14": "5"
                                },
                                {
                                    "0": "7",
                                    "1": "King",
                                    "2": "Russell",
                                    "3": "Russell King",
                                    "4": "Sales Representative",
                                    "5": "Mr.",
                                    "6": "1980-05-29",
                                    "7": "2015-01-02",
                                    "8": "6789 Edgeham Hollow, Winchester Way",
                                    "9": "London",
                                    "10": "NULL",
                                    "11": "10002",
                                    "12": "UK",
                                    "13": "(71) 123-4567",
                                    "14": "5"
                                },
                                {
                                    "0": "8",
                                    "1": "Cameron",
                                    "2": "Maria",
                                    "3": "Maria Cameron",
                                    "4": "Sales Representative",
                                    "5": "Ms.",
                                    "6": "1978-01-09",
                                    "7": "2015-03-05",
                                    "8": "4567 - 11th Ave. N.E.",
                                    "9": "Seattle",
                                    "10": "WA",
                                    "11": "10006",
                                    "12": "USA",
                                    "13": "(206) 555-0102",
                                    "14": "3"
                                },
                                {
                                    "0": "9",
                                    "1": "Doyle",
                                    "2": "Patricia",
                                    "3": "Patricia Doyle",
                                    "4": "Sales Representative",
                                    "5": "Ms.",
                                    "6": "1986-01-27",
                                    "7": "2015-11-15",
                                    "8": "1234 Houndstooth Rd.",
                                    "9": "London",
                                    "10": "NULL",
                                    "11": "10008",
                                    "12": "UK",
                                    "13": "(71) 456-7890",
                                    "14": "5"
                                }
                            ]
                        },
                        "text/html": [
                            "<table>",
                            "<tr><th>empid</th><th>lastname</th><th>firstname</th><th>FullName</th><th>title</th><th>titleofcourtesy</th><th>birthdate</th><th>hiredate</th><th>address</th><th>city</th><th>region</th><th>postalcode</th><th>country</th><th>phone</th><th>mgrid</th></tr>",
                            "<tr><td>1</td><td>Davis</td><td>Sara</td><td>Sara Davis</td><td>CEO</td><td>Ms.</td><td>1968-12-08</td><td>2013-05-01</td><td>7890 - 20th Ave. E., Apt. 2A</td><td>Seattle</td><td>WA</td><td>10003</td><td>USA</td><td>(206) 555-0101</td><td>NULL</td></tr>",
                            "<tr><td>2</td><td>Funk</td><td>Don</td><td>Don Funk</td><td>Vice President, Sales</td><td>Dr.</td><td>1972-02-19</td><td>2013-08-14</td><td>9012 W. Capital Way</td><td>Tacoma</td><td>WA</td><td>10001</td><td>USA</td><td>(206) 555-0100</td><td>1</td></tr>",
                            "<tr><td>3</td><td>Lew</td><td>Judy</td><td>Judy Lew</td><td>Sales Manager</td><td>Ms.</td><td>1983-08-30</td><td>2013-04-01</td><td>2345 Moss Bay Blvd.</td><td>Kirkland</td><td>WA</td><td>10007</td><td>USA</td><td>(206) 555-0103</td><td>2</td></tr>",
                            "<tr><td>4</td><td>Peled</td><td>Yael</td><td>Yael Peled</td><td>Sales Representative</td><td>Mrs.</td><td>1957-09-19</td><td>2014-05-03</td><td>5678 Old Redmond Rd.</td><td>Redmond</td><td>WA</td><td>10009</td><td>USA</td><td>(206) 555-0104</td><td>3</td></tr>",
                            "<tr><td>5</td><td>Mortensen</td><td>Sven</td><td>Sven Mortensen</td><td>Sales Manager</td><td>Mr.</td><td>1975-03-04</td><td>2014-10-17</td><td>8901 Garrett Hill</td><td>London</td><td>NULL</td><td>10004</td><td>UK</td><td>(71) 234-5678</td><td>2</td></tr>",
                            "<tr><td>6</td><td>Suurs</td><td>Paul</td><td>Paul Suurs</td><td>Sales Representative</td><td>Mr.</td><td>1983-07-02</td><td>2014-10-17</td><td>3456 Coventry House, Miner Rd.</td><td>London</td><td>NULL</td><td>10005</td><td>UK</td><td>(71) 345-6789</td><td>5</td></tr>",
                            "<tr><td>7</td><td>King</td><td>Russell</td><td>Russell King</td><td>Sales Representative</td><td>Mr.</td><td>1980-05-29</td><td>2015-01-02</td><td>6789 Edgeham Hollow, Winchester Way</td><td>London</td><td>NULL</td><td>10002</td><td>UK</td><td>(71) 123-4567</td><td>5</td></tr>",
                            "<tr><td>8</td><td>Cameron</td><td>Maria</td><td>Maria Cameron</td><td>Sales Representative</td><td>Ms.</td><td>1978-01-09</td><td>2015-03-05</td><td>4567 - 11th Ave. N.E.</td><td>Seattle</td><td>WA</td><td>10006</td><td>USA</td><td>(206) 555-0102</td><td>3</td></tr>",
                            "<tr><td>9</td><td>Doyle</td><td>Patricia</td><td>Patricia Doyle</td><td>Sales Representative</td><td>Ms.</td><td>1986-01-27</td><td>2015-11-15</td><td>1234 Houndstooth Rd.</td><td>London</td><td>NULL</td><td>10008</td><td>UK</td><td>(71) 456-7890</td><td>5</td></tr>",
                            "</table>"
                        ]
                    }
                },
                {
                    "output_type": "execute_result",
                    "metadata": {},
                    "execution_count": 2,
                    "data": {
                        "application/vnd.dataresource+json": {
                            "schema": {
                                "fields": [
                                    {
                                        "name": "EmployeeId"
                                    },
                                    {
                                        "name": "EmployeeLastName"
                                    },
                                    {
                                        "name": "EmployeeFirstName"
                                    },
                                    {
                                        "name": "EmployeeTitle"
                                    },
                                    {
                                        "name": "EmployeeTitleOfCourtesy"
                                    },
                                    {
                                        "name": "BirthDate"
                                    },
                                    {
                                        "name": "HireDate"
                                    },
                                    {
                                        "name": "EmployeeAddress"
                                    },
                                    {
                                        "name": "EmployeeCity"
                                    },
                                    {
                                        "name": "EmployeeRegion"
                                    },
                                    {
                                        "name": "EmployeePostalCode"
                                    },
                                    {
                                        "name": "EmployeeCountry"
                                    },
                                    {
                                        "name": "EmployeePhoneNumber"
                                    },
                                    {
                                        "name": "EmployeeManagerId"
                                    }
                                ]
                            },
                            "data": [
                                {
                                    "0": "1",
                                    "1": "Davis",
                                    "2": "Sara",
                                    "3": "CEO",
                                    "4": "Ms.",
                                    "5": "1968-12-08",
                                    "6": "2013-05-01",
                                    "7": "7890 - 20th Ave. E., Apt. 2A",
                                    "8": "Seattle",
                                    "9": "WA",
                                    "10": "10003",
                                    "11": "USA",
                                    "12": "(206) 555-0101",
                                    "13": "NULL"
                                },
                                {
                                    "0": "2",
                                    "1": "Funk",
                                    "2": "Don",
                                    "3": "Vice President, Sales",
                                    "4": "Dr.",
                                    "5": "1972-02-19",
                                    "6": "2013-08-14",
                                    "7": "9012 W. Capital Way",
                                    "8": "Tacoma",
                                    "9": "WA",
                                    "10": "10001",
                                    "11": "USA",
                                    "12": "(206) 555-0100",
                                    "13": "1"
                                },
                                {
                                    "0": "3",
                                    "1": "Lew",
                                    "2": "Judy",
                                    "3": "Sales Manager",
                                    "4": "Ms.",
                                    "5": "1983-08-30",
                                    "6": "2013-04-01",
                                    "7": "2345 Moss Bay Blvd.",
                                    "8": "Kirkland",
                                    "9": "WA",
                                    "10": "10007",
                                    "11": "USA",
                                    "12": "(206) 555-0103",
                                    "13": "2"
                                },
                                {
                                    "0": "4",
                                    "1": "Peled",
                                    "2": "Yael",
                                    "3": "Sales Representative",
                                    "4": "Mrs.",
                                    "5": "1957-09-19",
                                    "6": "2014-05-03",
                                    "7": "5678 Old Redmond Rd.",
                                    "8": "Redmond",
                                    "9": "WA",
                                    "10": "10009",
                                    "11": "USA",
                                    "12": "(206) 555-0104",
                                    "13": "3"
                                },
                                {
                                    "0": "5",
                                    "1": "Mortensen",
                                    "2": "Sven",
                                    "3": "Sales Manager",
                                    "4": "Mr.",
                                    "5": "1975-03-04",
                                    "6": "2014-10-17",
                                    "7": "8901 Garrett Hill",
                                    "8": "London",
                                    "9": "NULL",
                                    "10": "10004",
                                    "11": "UK",
                                    "12": "(71) 234-5678",
                                    "13": "2"
                                },
                                {
                                    "0": "6",
                                    "1": "Suurs",
                                    "2": "Paul",
                                    "3": "Sales Representative",
                                    "4": "Mr.",
                                    "5": "1983-07-02",
                                    "6": "2014-10-17",
                                    "7": "3456 Coventry House, Miner Rd.",
                                    "8": "London",
                                    "9": "NULL",
                                    "10": "10005",
                                    "11": "UK",
                                    "12": "(71) 345-6789",
                                    "13": "5"
                                },
                                {
                                    "0": "7",
                                    "1": "King",
                                    "2": "Russell",
                                    "3": "Sales Representative",
                                    "4": "Mr.",
                                    "5": "1980-05-29",
                                    "6": "2015-01-02",
                                    "7": "6789 Edgeham Hollow, Winchester Way",
                                    "8": "London",
                                    "9": "NULL",
                                    "10": "10002",
                                    "11": "UK",
                                    "12": "(71) 123-4567",
                                    "13": "5"
                                },
                                {
                                    "0": "8",
                                    "1": "Cameron",
                                    "2": "Maria",
                                    "3": "Sales Representative",
                                    "4": "Ms.",
                                    "5": "1978-01-09",
                                    "6": "2015-03-05",
                                    "7": "4567 - 11th Ave. N.E.",
                                    "8": "Seattle",
                                    "9": "WA",
                                    "10": "10006",
                                    "11": "USA",
                                    "12": "(206) 555-0102",
                                    "13": "3"
                                },
                                {
                                    "0": "9",
                                    "1": "Doyle",
                                    "2": "Patricia",
                                    "3": "Sales Representative",
                                    "4": "Ms.",
                                    "5": "1986-01-27",
                                    "6": "2015-11-15",
                                    "7": "1234 Houndstooth Rd.",
                                    "8": "London",
                                    "9": "NULL",
                                    "10": "10008",
                                    "11": "UK",
                                    "12": "(71) 456-7890",
                                    "13": "5"
                                }
                            ]
                        },
                        "text/html": [
                            "<table>",
                            "<tr><th>EmployeeId</th><th>EmployeeLastName</th><th>EmployeeFirstName</th><th>EmployeeTitle</th><th>EmployeeTitleOfCourtesy</th><th>BirthDate</th><th>HireDate</th><th>EmployeeAddress</th><th>EmployeeCity</th><th>EmployeeRegion</th><th>EmployeePostalCode</th><th>EmployeeCountry</th><th>EmployeePhoneNumber</th><th>EmployeeManagerId</th></tr>",
                            "<tr><td>1</td><td>Davis</td><td>Sara</td><td>CEO</td><td>Ms.</td><td>1968-12-08</td><td>2013-05-01</td><td>7890 - 20th Ave. E., Apt. 2A</td><td>Seattle</td><td>WA</td><td>10003</td><td>USA</td><td>(206) 555-0101</td><td>NULL</td></tr>",
                            "<tr><td>2</td><td>Funk</td><td>Don</td><td>Vice President, Sales</td><td>Dr.</td><td>1972-02-19</td><td>2013-08-14</td><td>9012 W. Capital Way</td><td>Tacoma</td><td>WA</td><td>10001</td><td>USA</td><td>(206) 555-0100</td><td>1</td></tr>",
                            "<tr><td>3</td><td>Lew</td><td>Judy</td><td>Sales Manager</td><td>Ms.</td><td>1983-08-30</td><td>2013-04-01</td><td>2345 Moss Bay Blvd.</td><td>Kirkland</td><td>WA</td><td>10007</td><td>USA</td><td>(206) 555-0103</td><td>2</td></tr>",
                            "<tr><td>4</td><td>Peled</td><td>Yael</td><td>Sales Representative</td><td>Mrs.</td><td>1957-09-19</td><td>2014-05-03</td><td>5678 Old Redmond Rd.</td><td>Redmond</td><td>WA</td><td>10009</td><td>USA</td><td>(206) 555-0104</td><td>3</td></tr>",
                            "<tr><td>5</td><td>Mortensen</td><td>Sven</td><td>Sales Manager</td><td>Mr.</td><td>1975-03-04</td><td>2014-10-17</td><td>8901 Garrett Hill</td><td>London</td><td>NULL</td><td>10004</td><td>UK</td><td>(71) 234-5678</td><td>2</td></tr>",
                            "<tr><td>6</td><td>Suurs</td><td>Paul</td><td>Sales Representative</td><td>Mr.</td><td>1983-07-02</td><td>2014-10-17</td><td>3456 Coventry House, Miner Rd.</td><td>London</td><td>NULL</td><td>10005</td><td>UK</td><td>(71) 345-6789</td><td>5</td></tr>",
                            "<tr><td>7</td><td>King</td><td>Russell</td><td>Sales Representative</td><td>Mr.</td><td>1980-05-29</td><td>2015-01-02</td><td>6789 Edgeham Hollow, Winchester Way</td><td>London</td><td>NULL</td><td>10002</td><td>UK</td><td>(71) 123-4567</td><td>5</td></tr>",
                            "<tr><td>8</td><td>Cameron</td><td>Maria</td><td>Sales Representative</td><td>Ms.</td><td>1978-01-09</td><td>2015-03-05</td><td>4567 - 11th Ave. N.E.</td><td>Seattle</td><td>WA</td><td>10006</td><td>USA</td><td>(206) 555-0102</td><td>3</td></tr>",
                            "<tr><td>9</td><td>Doyle</td><td>Patricia</td><td>Sales Representative</td><td>Ms.</td><td>1986-01-27</td><td>2015-11-15</td><td>1234 Houndstooth Rd.</td><td>London</td><td>NULL</td><td>10008</td><td>UK</td><td>(71) 456-7890</td><td>5</td></tr>",
                            "</table>"
                        ]
                    }
                }
            ],
            "execution_count": 2
        },
        {
            "cell_type": "markdown",
            "source": [
                "**_QUERY 1)_** Return orders placed in June 2015\n",
                "\n",
                "_**TABLES INVOLVED)**_ tsqlv4 db, Sales.Order\n",
                "\n",
                "**_DESIRED OUTPUT)_**\n",
                "\n",
                "```\n",
                "orderid     orderdate  custid      empid\n",
                "----------- ---------- ----------- -----------\n",
                "10555       2015-06-02 71          6\n",
                "10556       2015-06-03 73          2\n",
                "10557       2015-06-03 44          9\n",
                "10558       2015-06-04 4           1\n",
                "10559       2015-06-05 7           6\n",
                "10560       2015-06-06 25          8\n",
                "10561       2015-06-06 24          2\n",
                "10562       2015-06-09 66          1\n",
                "10563       2015-06-10 67          2\n",
                "10564       2015-06-10 65          4\n",
                "\n",
                "```\n",
                "```\n",
                "(30 row(s) affected)\n",
                "```"
            ],
            "metadata": {
                "language": "sql",
                "azdata_cell_guid": "985968ec-3387-4c49-bc0e-4955a3bc5646"
            },
            "attachments": {}
        },
        {
            "cell_type": "code",
            "source": [
                "use TSQLV4\n",
                "go\n",
                "\n",
                "select orderid, \n",
                "    orderdate, \n",
                "    custid, \n",
                "    empid\n",
                "\n",
                "from Sales.Orders\n",
                "\n",
                "where YEAR(orderdate) = 2015 and MONTH(orderdate) = 6\n",
                "\n",
                "order by  orderid, orderdate, custid, empid\n",
                ""
            ],
            "metadata": {
                "language": "sql",
                "azdata_cell_guid": "51ad3be2-6e9b-40ea-b3d2-dd5063c73fe1",
                "tags": []
            },
            "outputs": [
                {
                    "output_type": "display_data",
                    "data": {
                        "text/html": "Commands completed successfully."
                    },
                    "metadata": {}
                },
                {
                    "output_type": "display_data",
                    "data": {
                        "text/html": "(30 rows affected)"
                    },
                    "metadata": {}
                },
                {
                    "output_type": "display_data",
                    "data": {
                        "text/html": "Total execution time: 00:00:00.043"
                    },
                    "metadata": {}
                },
                {
                    "output_type": "execute_result",
                    "metadata": {},
                    "execution_count": 34,
                    "data": {
                        "application/vnd.dataresource+json": {
                            "schema": {
                                "fields": [
                                    {
                                        "name": "orderid"
                                    },
                                    {
                                        "name": "orderdate"
                                    },
                                    {
                                        "name": "custid"
                                    },
                                    {
                                        "name": "empid"
                                    }
                                ]
                            },
                            "data": [
                                {
                                    "0": "10555",
                                    "1": "2015-06-02",
                                    "2": "71",
                                    "3": "6"
                                },
                                {
                                    "0": "10556",
                                    "1": "2015-06-03",
                                    "2": "73",
                                    "3": "2"
                                },
                                {
                                    "0": "10557",
                                    "1": "2015-06-03",
                                    "2": "44",
                                    "3": "9"
                                },
                                {
                                    "0": "10558",
                                    "1": "2015-06-04",
                                    "2": "4",
                                    "3": "1"
                                },
                                {
                                    "0": "10559",
                                    "1": "2015-06-05",
                                    "2": "7",
                                    "3": "6"
                                },
                                {
                                    "0": "10560",
                                    "1": "2015-06-06",
                                    "2": "25",
                                    "3": "8"
                                },
                                {
                                    "0": "10561",
                                    "1": "2015-06-06",
                                    "2": "24",
                                    "3": "2"
                                },
                                {
                                    "0": "10562",
                                    "1": "2015-06-09",
                                    "2": "66",
                                    "3": "1"
                                },
                                {
                                    "0": "10563",
                                    "1": "2015-06-10",
                                    "2": "67",
                                    "3": "2"
                                },
                                {
                                    "0": "10564",
                                    "1": "2015-06-10",
                                    "2": "65",
                                    "3": "4"
                                },
                                {
                                    "0": "10565",
                                    "1": "2015-06-11",
                                    "2": "51",
                                    "3": "8"
                                },
                                {
                                    "0": "10566",
                                    "1": "2015-06-12",
                                    "2": "7",
                                    "3": "9"
                                },
                                {
                                    "0": "10567",
                                    "1": "2015-06-12",
                                    "2": "37",
                                    "3": "1"
                                },
                                {
                                    "0": "10568",
                                    "1": "2015-06-13",
                                    "2": "29",
                                    "3": "3"
                                },
                                {
                                    "0": "10569",
                                    "1": "2015-06-16",
                                    "2": "65",
                                    "3": "5"
                                },
                                {
                                    "0": "10570",
                                    "1": "2015-06-17",
                                    "2": "51",
                                    "3": "3"
                                },
                                {
                                    "0": "10571",
                                    "1": "2015-06-17",
                                    "2": "20",
                                    "3": "8"
                                },
                                {
                                    "0": "10572",
                                    "1": "2015-06-18",
                                    "2": "5",
                                    "3": "3"
                                },
                                {
                                    "0": "10573",
                                    "1": "2015-06-19",
                                    "2": "3",
                                    "3": "7"
                                },
                                {
                                    "0": "10574",
                                    "1": "2015-06-19",
                                    "2": "82",
                                    "3": "4"
                                },
                                {
                                    "0": "10575",
                                    "1": "2015-06-20",
                                    "2": "52",
                                    "3": "5"
                                },
                                {
                                    "0": "10576",
                                    "1": "2015-06-23",
                                    "2": "80",
                                    "3": "3"
                                },
                                {
                                    "0": "10577",
                                    "1": "2015-06-23",
                                    "2": "82",
                                    "3": "9"
                                },
                                {
                                    "0": "10578",
                                    "1": "2015-06-24",
                                    "2": "11",
                                    "3": "4"
                                },
                                {
                                    "0": "10579",
                                    "1": "2015-06-25",
                                    "2": "45",
                                    "3": "1"
                                },
                                {
                                    "0": "10580",
                                    "1": "2015-06-26",
                                    "2": "56",
                                    "3": "4"
                                },
                                {
                                    "0": "10581",
                                    "1": "2015-06-26",
                                    "2": "21",
                                    "3": "3"
                                },
                                {
                                    "0": "10582",
                                    "1": "2015-06-27",
                                    "2": "6",
                                    "3": "3"
                                },
                                {
                                    "0": "10583",
                                    "1": "2015-06-30",
                                    "2": "87",
                                    "3": "2"
                                },
                                {
                                    "0": "10584",
                                    "1": "2015-06-30",
                                    "2": "7",
                                    "3": "4"
                                }
                            ]
                        },
                        "text/html": [
                            "<table>",
                            "<tr><th>orderid</th><th>orderdate</th><th>custid</th><th>empid</th></tr>",
                            "<tr><td>10555</td><td>2015-06-02</td><td>71</td><td>6</td></tr>",
                            "<tr><td>10556</td><td>2015-06-03</td><td>73</td><td>2</td></tr>",
                            "<tr><td>10557</td><td>2015-06-03</td><td>44</td><td>9</td></tr>",
                            "<tr><td>10558</td><td>2015-06-04</td><td>4</td><td>1</td></tr>",
                            "<tr><td>10559</td><td>2015-06-05</td><td>7</td><td>6</td></tr>",
                            "<tr><td>10560</td><td>2015-06-06</td><td>25</td><td>8</td></tr>",
                            "<tr><td>10561</td><td>2015-06-06</td><td>24</td><td>2</td></tr>",
                            "<tr><td>10562</td><td>2015-06-09</td><td>66</td><td>1</td></tr>",
                            "<tr><td>10563</td><td>2015-06-10</td><td>67</td><td>2</td></tr>",
                            "<tr><td>10564</td><td>2015-06-10</td><td>65</td><td>4</td></tr>",
                            "<tr><td>10565</td><td>2015-06-11</td><td>51</td><td>8</td></tr>",
                            "<tr><td>10566</td><td>2015-06-12</td><td>7</td><td>9</td></tr>",
                            "<tr><td>10567</td><td>2015-06-12</td><td>37</td><td>1</td></tr>",
                            "<tr><td>10568</td><td>2015-06-13</td><td>29</td><td>3</td></tr>",
                            "<tr><td>10569</td><td>2015-06-16</td><td>65</td><td>5</td></tr>",
                            "<tr><td>10570</td><td>2015-06-17</td><td>51</td><td>3</td></tr>",
                            "<tr><td>10571</td><td>2015-06-17</td><td>20</td><td>8</td></tr>",
                            "<tr><td>10572</td><td>2015-06-18</td><td>5</td><td>3</td></tr>",
                            "<tr><td>10573</td><td>2015-06-19</td><td>3</td><td>7</td></tr>",
                            "<tr><td>10574</td><td>2015-06-19</td><td>82</td><td>4</td></tr>",
                            "<tr><td>10575</td><td>2015-06-20</td><td>52</td><td>5</td></tr>",
                            "<tr><td>10576</td><td>2015-06-23</td><td>80</td><td>3</td></tr>",
                            "<tr><td>10577</td><td>2015-06-23</td><td>82</td><td>9</td></tr>",
                            "<tr><td>10578</td><td>2015-06-24</td><td>11</td><td>4</td></tr>",
                            "<tr><td>10579</td><td>2015-06-25</td><td>45</td><td>1</td></tr>",
                            "<tr><td>10580</td><td>2015-06-26</td><td>56</td><td>4</td></tr>",
                            "<tr><td>10581</td><td>2015-06-26</td><td>21</td><td>3</td></tr>",
                            "<tr><td>10582</td><td>2015-06-27</td><td>6</td><td>3</td></tr>",
                            "<tr><td>10583</td><td>2015-06-30</td><td>87</td><td>2</td></tr>",
                            "<tr><td>10584</td><td>2015-06-30</td><td>7</td><td>4</td></tr>",
                            "</table>"
                        ]
                    }
                }
            ],
            "execution_count": 34
        }
    ]
}