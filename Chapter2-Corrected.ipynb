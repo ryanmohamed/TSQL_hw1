{
    "metadata": {
        "kernelspec": {
            "name": "SQL",
            "display_name": "SQL",
            "language": "sql"
        },
        "language_info": {
            "name": "sql",
            "version": ""
        }
    },
    "nbformat_minor": 2,
    "nbformat": 4,
    "cells": [
        {
            "cell_type": "markdown",
            "source": [
                "hello"
            ],
            "metadata": {
                "azdata_cell_guid": "b954ef74-16d5-4592-826d-200c354fb2c3"
            },
            "attachments": {}
        }
    ]
}